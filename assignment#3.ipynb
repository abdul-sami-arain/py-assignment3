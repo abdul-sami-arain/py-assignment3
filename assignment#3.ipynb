{
 "cells": [
  {
   "cell_type": "code",
   "execution_count": 1,
   "metadata": {},
   "outputs": [
    {
     "name": "stdout",
     "output_type": "stream",
     "text": [
      "Twinkle, twinkle, little star,\n",
      "         How I wonder what you are! \n",
      "                 Up above the world so high,\n",
      "                 Like a diamond in the sky.\n",
      "Twinkle, twinkle, little star,\n",
      "         How I wonder what you are!\n"
     ]
    }
   ],
   "source": [
    "print(\n",
    "\"Twinkle, twinkle, little star,\\n\"+\n",
    "    \"         How I wonder what you are! \\n\"+\n",
    "    \"                 Up above the world so high,\\n\"+\n",
    "    \"                 Like a diamond in the sky.\\n\"+\n",
    "    \"Twinkle, twinkle, little star,\\n\"+\n",
    "    \"         How I wonder what you are!\"\n",
    ");"
   ]
  },
  {
   "cell_type": "code",
   "execution_count": 2,
   "metadata": {},
   "outputs": [
    {
     "name": "stdout",
     "output_type": "stream",
     "text": [
      "Python version is\n",
      "3.7.6 (default, Jan  8 2020, 20:23:39) [MSC v.1916 64 bit (AMD64)]\n"
     ]
    }
   ],
   "source": [
    "#Write a Python program to get the Python version you are using\n",
    "import sys\n",
    "print(\"Python version is\")\n",
    "print (sys.version)"
   ]
  },
  {
   "cell_type": "code",
   "execution_count": 3,
   "metadata": {},
   "outputs": [
    {
     "name": "stdout",
     "output_type": "stream",
     "text": [
      "Current date and time : \n",
      "2021-10-24 12:28:59\n"
     ]
    }
   ],
   "source": [
    "#Write a Python program to display the current date and time.:\n",
    "import datetime\n",
    "timedate = datetime.datetime.now()\n",
    "print (\"Current date and time : \")\n",
    "print (timedate.strftime(\"%Y-%m-%d %H:%M:%S\"))"
   ]
  },
  {
   "cell_type": "code",
   "execution_count": 4,
   "metadata": {},
   "outputs": [
    {
     "name": "stdout",
     "output_type": "stream",
     "text": [
      "Please Enter Radius Of Circle:45\n",
      "Area of circle is  6361.725123519331\n"
     ]
    }
   ],
   "source": [
    "import math\n",
    "radius = float(input(\"Please Enter Radius Of Circle:\"));\n",
    "area = float((math.pi)*radius**2);\n",
    "print(\"Area of circle is \",area)"
   ]
  },
  {
   "cell_type": "code",
   "execution_count": 5,
   "metadata": {},
   "outputs": [
    {
     "name": "stdout",
     "output_type": "stream",
     "text": [
      "Enter your 1st name: abdul\n",
      "Enter your last name: sami\n",
      "sami abdul\n"
     ]
    }
   ],
   "source": [
    "#Write a Python program which accepts the user's first and last name and print them in\n",
    "#reverse order with a space between them.\n",
    "a = input(\"Enter your 1st name: \")\n",
    "b = input(\"Enter your last name: \")\n",
    "print(b + \" \" + a)"
   ]
  },
  {
   "cell_type": "code",
   "execution_count": 6,
   "metadata": {},
   "outputs": [
    {
     "name": "stdout",
     "output_type": "stream",
     "text": [
      "Enter 1st:5\n",
      "Enter 2nd:6\n",
      "11\n"
     ]
    }
   ],
   "source": [
    "#Write a python program which takes two inputs from user and print them addition\n",
    "a = eval(input(\"Enter 1st:\"))\n",
    "b = eval(input(\"Enter 2nd:\"))\n",
    "c = a + b\n",
    "print(c)"
   ]
  },
  {
   "cell_type": "code",
   "execution_count": 8,
   "metadata": {},
   "outputs": [
    {
     "name": "stdout",
     "output_type": "stream",
     "text": [
      "Enter English marks: 23\n",
      "Enter Islamiat marks: 45\n",
      "Enter Maths marks: 67\n",
      "Enter chemistry marks: 45\n",
      "Enter Physics marks: 34\n",
      "Your Total marks are 214 out of 500\n",
      "Your Percentage is 42.8\n",
      "Your Grade is D\n"
     ]
    }
   ],
   "source": [
    "#Write a program which takes 5 inputs from user for different subjects marks,total \n",
    "#it and generate mark sheet using grades?\n",
    "Eng = int(input(\"Enter English marks: \"))\n",
    "Bio = int(input(\"Enter Islamiat marks: \"))\n",
    "Mth = int(input(\"Enter Maths marks: \"))\n",
    "Stat = int(input(\"Enter chemistry marks: \"))\n",
    "phy = int(input(\"Enter Physics marks: \"))\n",
    "if Eng > 100 or Eng < 0:\n",
    "    print(\"Enter Eng marks between 0 and 100\")\n",
    "else:    \n",
    "    if Bio > 100 or Bio < 0:\n",
    "        print(\"Enter Biology marks between 0 and 100\")\n",
    "    else:    \n",
    "        if Mth > 100 or Mth < 0:\n",
    "            print(\"Enter Maths marks between 0 and 100\")\n",
    "        else:\n",
    "            if Stat > 100 or Stat < 0:\n",
    "                print(\"Enter Statistics marks between 0 and 100\")\n",
    "            else:\n",
    "                if phy > 100 or phy < 0:\n",
    "                    print(\"Enter Physics marks between 0 and 100\")\n",
    "                else:\n",
    "                    T = Eng + Bio + Mth + Stat + phy\n",
    "                    print(\"Your Total marks are\",T,\"out of 500\")\n",
    "                    P = (T / 500) * 100\n",
    "                    print(\"Your Percentage is\",P)\n",
    "                    if P >= 80 and P <= 100:\n",
    "                        print(\"Your Grade is A+\")\n",
    "                    if P >= 70 and P < 80:\n",
    "                        print(\"Your Grade is A\")\n",
    "                    if P >= 60 and P < 70:\n",
    "                        print(\"Your Grade is B\")\n",
    "                    if P >= 50 and P < 60:\n",
    "                        print(\"Your Grade is C\")\n",
    "                    if P >= 40 and P < 50:\n",
    "                        print(\"Your Grade is D\")\n",
    "                    if P >= 33 and P < 40:\n",
    "                        print(\"Your Grade is E\")\n",
    "                    if P <33:\n",
    "                        print(\"FAILS\")"
   ]
  },
  {
   "cell_type": "code",
   "execution_count": 9,
   "metadata": {},
   "outputs": [
    {
     "name": "stdout",
     "output_type": "stream",
     "text": [
      "Enter a number: 34\n",
      "34 is an even number\n"
     ]
    }
   ],
   "source": [
    "#Write a program which take input from user and identify the given number is even or odd?\n",
    "a = int(input(\"Enter a number: \"))\n",
    "if a%2==0:\n",
    "    print(a,\"is an even number\")\n",
    "else:\n",
    "    print(a,\"is an odd number\")\n",
    "    "
   ]
  },
  {
   "cell_type": "code",
   "execution_count": 10,
   "metadata": {},
   "outputs": [
    {
     "name": "stdout",
     "output_type": "stream",
     "text": [
      "9\n"
     ]
    }
   ],
   "source": [
    "\n",
    "#Write a program which print the length of the list?\n",
    "a=[1,3,3,4,4,6,1,89,10]\n",
    "print(len(a))"
   ]
  },
  {
   "cell_type": "code",
   "execution_count": 11,
   "metadata": {},
   "outputs": [
    {
     "name": "stdout",
     "output_type": "stream",
     "text": [
      "397\n"
     ]
    }
   ],
   "source": [
    "\n",
    "#Write a python program to sum all the numeric items in the list.\n",
    "import math\n",
    "a=[2,4,2,8,2,35,344]\n",
    "print(sum(a))"
   ]
  },
  {
   "cell_type": "code",
   "execution_count": 12,
   "metadata": {},
   "outputs": [
    {
     "name": "stdout",
     "output_type": "stream",
     "text": [
      "The Greater Number is 84\n"
     ]
    }
   ],
   "source": [
    "#Write a python program to get the largest number from a numeric list.\n",
    "\n",
    "a=[23,5,63,84,9,-3,4,8]\n",
    "s=a[0]\n",
    "i=0\n",
    "while(i<len(a)):\n",
    "    if(a[i]>s):\n",
    "        s=a[i]\n",
    "    i=i+1\n",
    "print(\"The Greater Number is {}\".format(s))"
   ]
  },
  {
   "cell_type": "code",
   "execution_count": 13,
   "metadata": {},
   "outputs": [
    {
     "name": "stdout",
     "output_type": "stream",
     "text": [
      "1 is lesser than 5\n",
      "1 is lesser than 5\n",
      "2 is lesser than 5\n",
      "3 is lesser than 5\n"
     ]
    }
   ],
   "source": [
    "#Take a list, say for example this one:\n",
    "#a=[1,1,2,3,5,8,13,21,34,55,89]\n",
    "#Write a program that prints out all the elements of the list that are less than 5.\n",
    "a = [1, 1, 2, 3, 5, 8, 13, 21, 34, 55, 89]\n",
    "for i in a:\n",
    "    if i < 5:\n",
    "        print(i,\"is lesser than 5\")"
   ]
  },
  {
   "cell_type": "code",
   "execution_count": null,
   "metadata": {},
   "outputs": [],
   "source": []
  }
 ],
 "metadata": {
  "kernelspec": {
   "display_name": "Python 3",
   "language": "python",
   "name": "python3"
  },
  "language_info": {
   "codemirror_mode": {
    "name": "ipython",
    "version": 3
   },
   "file_extension": ".py",
   "mimetype": "text/x-python",
   "name": "python",
   "nbconvert_exporter": "python",
   "pygments_lexer": "ipython3",
   "version": "3.7.6"
  }
 },
 "nbformat": 4,
 "nbformat_minor": 4
}
